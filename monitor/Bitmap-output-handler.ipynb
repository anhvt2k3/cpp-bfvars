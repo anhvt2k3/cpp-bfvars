{
 "cells": [
  {
   "cell_type": "code",
   "execution_count": 1,
   "metadata": {},
   "outputs": [],
   "source": [
    "# ! pip install numpy pillow svgwrite"
   ]
  },
  {
   "cell_type": "markdown",
   "metadata": {},
   "source": [
    "# Bitmap output handler"
   ]
  },
  {
   "cell_type": "code",
   "execution_count": 2,
   "metadata": {},
   "outputs": [],
   "source": [
    "import csv\n",
    "import numpy as np\n",
    "from PIL import Image"
   ]
  },
  {
   "cell_type": "code",
   "execution_count": 3,
   "metadata": {},
   "outputs": [],
   "source": [
    "def read_csv(file_path):\n",
    "    bucket_indices = []\n",
    "    values = []\n",
    "    with open(file_path, mode='r') as file:\n",
    "        reader = csv.reader(file)\n",
    "        next(reader)  # Skip the header\n",
    "        for row in reader:\n",
    "            bucket_indices.append(int(row[0]))\n",
    "            values.append(float(row[1]))\n",
    "    return bucket_indices, values\n",
    "\n",
    "# indices, values = read_csv(BITMAP_FILENAME)"
   ]
  },
  {
   "cell_type": "code",
   "execution_count": 4,
   "metadata": {},
   "outputs": [],
   "source": [
    "def normalize(values):\n",
    "    max_value = max(values)\n",
    "    min_value = min(values)\n",
    "    if max_value == min_value:  # Avoid division by zero\n",
    "        return [0 for _ in values]\n",
    "    return [int(255 - 255 * (value - min_value) / (max_value - min_value)) for value in values]"
   ]
  },
  {
   "cell_type": "code",
   "execution_count": 7,
   "metadata": {},
   "outputs": [],
   "source": [
    "import svgwrite\n",
    "import math\n",
    "\n",
    "def reshape_to_square(values):\n",
    "    # Find the smallest possible grid dimensions (width and height)\n",
    "    total_values = len(values)\n",
    "    width = math.ceil(math.sqrt(total_values))\n",
    "    height = math.ceil(total_values / width)\n",
    "\n",
    "    # Pad values with zeros if necessary\n",
    "    padded_values = values + [0] * (width * height - total_values)\n",
    "\n",
    "    # Reshape into a 2D grid (height x width)\n",
    "    grid = np.array(padded_values).reshape(height, width)\n",
    "    return grid\n",
    "\n",
    "def create_svg_square(grid, output_path, max_size=350, max_pixels=1_000_000):\n",
    "    \"\"\"\n",
    "    Creates an SVG representation of a 2D grid with grayscale intensity,\n",
    "    ensuring the final image fits within a 1040x1040 canvas.\n",
    "    \n",
    "    Parameters:\n",
    "        grid (numpy.ndarray): A 2D numpy array of values.\n",
    "        output_path (str): Path to save the SVG file.\n",
    "        max_size (int): Maximum size (in pixels) for the SVG canvas.\n",
    "        max_pixels (int): Maximum number of pixels to render (for performance).\n",
    "    \"\"\"\n",
    "    # Get original grid dimensions\n",
    "    height, width = grid.shape\n",
    "    total_pixels = height * width\n",
    "\n",
    "    # Downscale if too many pixels to handle\n",
    "    if total_pixels > max_pixels:\n",
    "        scale_factor = (total_pixels / max_pixels) ** 0.5\n",
    "        new_height = int(height / scale_factor)\n",
    "        new_width = int(width / scale_factor)\n",
    "        grid = grid[::int(scale_factor), ::int(scale_factor)]  # Simple downscaling\n",
    "        height, width = grid.shape\n",
    "\n",
    "    # Determine the pixel size to fit within the max_size canvas\n",
    "    pixel_size = min(max_size / width, max_size / height)\n",
    "\n",
    "    # Calculate the overall canvas size\n",
    "    canvas_width = width * pixel_size\n",
    "    canvas_height = height * pixel_size\n",
    "\n",
    "    # Create an SVG drawing with the computed size\n",
    "    dwg = svgwrite.Drawing(output_path, size=(canvas_width, canvas_height))\n",
    "\n",
    "    # Normalize grid values to 0-255 for grayscale\n",
    "    grid_min, grid_max = grid.min(), grid.max()\n",
    "    normalized_grid = ((grid - grid_min) / (grid_max - grid_min) * 255).astype(int)\n",
    "\n",
    "    # Add rectangles for each cell in the grid\n",
    "    for y in range(height):\n",
    "        for x in range(width):\n",
    "            intensity = normalized_grid[y, x]\n",
    "            color = f\"rgb({intensity},{intensity},{intensity})\"  # Grayscale color\n",
    "            dwg.add(dwg.rect(\n",
    "                insert=(x * pixel_size, y * pixel_size),\n",
    "                size=(pixel_size, pixel_size),\n",
    "                fill=color\n",
    "            ))\n",
    "\n",
    "    # Save the SVG file\n",
    "    dwg.save()\n",
    "    print(f\"SVG saved to {output_path}\")"
   ]
  },
  {
   "cell_type": "code",
   "execution_count": 8,
   "metadata": {},
   "outputs": [
    {
     "name": "stdout",
     "output_type": "stream",
     "text": [
      "SVG saved to D:\\Desktop\\csbf\\bitmap.svg\n"
     ]
    }
   ],
   "source": [
    "BITMAP_FILENAME = \"D:\\\\Desktop\\\\csbf\\\\bitmap.csv\"\n",
    "BITMAP_IMAGE = \"D:\\\\Desktop\\\\csbf\\\\bitmap.svg\"\n",
    "\n",
    "bucket_indices, values = read_csv(BITMAP_FILENAME)\n",
    "grid = reshape_to_square(values)\n",
    "create_svg_square(grid, BITMAP_IMAGE)"
   ]
  }
 ],
 "metadata": {
  "kernelspec": {
   "display_name": ".venv",
   "language": "python",
   "name": "python3"
  },
  "language_info": {
   "codemirror_mode": {
    "name": "ipython",
    "version": 3
   },
   "file_extension": ".py",
   "mimetype": "text/x-python",
   "name": "python",
   "nbconvert_exporter": "python",
   "pygments_lexer": "ipython3",
   "version": "3.11.4"
  }
 },
 "nbformat": 4,
 "nbformat_minor": 2
}
